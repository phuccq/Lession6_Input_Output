{
 "cells": [
  {
   "cell_type": "code",
   "execution_count": 7,
   "id": "ed2156f2",
   "metadata": {},
   "outputs": [
    {
     "name": "stdout",
     "output_type": "stream",
     "text": [
      "Nhập số tiền USD cần đổi:100\n",
      "100.0USD đổi được 2351.4VNĐ\n"
     ]
    }
   ],
   "source": [
    "usd = float(input(\"Nhập số tiền USD cần đổi:\"))\n",
    "# ty_gia = float(input(\"Nhập tỷ giá USD/VND:\"))\n",
    "ty_gia = 23.514\n",
    "vnd = usd * ty_gia\n",
    "print(f\"{usd}USD đổi được {vnd}VNĐ\")"
   ]
  },
  {
   "cell_type": "code",
   "execution_count": null,
   "id": "9d23aadd",
   "metadata": {},
   "outputs": [],
   "source": []
  },
  {
   "cell_type": "code",
   "execution_count": null,
   "id": "b0d7b7bb",
   "metadata": {},
   "outputs": [],
   "source": []
  }
 ],
 "metadata": {
  "kernelspec": {
   "display_name": "Python 3 (ipykernel)",
   "language": "python",
   "name": "python3"
  },
  "language_info": {
   "codemirror_mode": {
    "name": "ipython",
    "version": 3
   },
   "file_extension": ".py",
   "mimetype": "text/x-python",
   "name": "python",
   "nbconvert_exporter": "python",
   "pygments_lexer": "ipython3",
   "version": "3.9.12"
  }
 },
 "nbformat": 4,
 "nbformat_minor": 5
}
